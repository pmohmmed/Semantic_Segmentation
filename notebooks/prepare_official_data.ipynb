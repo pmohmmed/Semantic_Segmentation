{
 "cells": [
  {
   "cell_type": "code",
   "execution_count": 2,
   "id": "315314f1-34e7-4e20-936f-cfabdd6b9c80",
   "metadata": {},
   "outputs": [],
   "source": [
    "\n",
    "import numpy as np\n",
    "from matplotlib import pyplot as plt\n",
    "import os\n",
    "if not str(os.getcwd()).endswith('semseg-uav'):\n",
    "    os.chdir('../')\n",
    "\n",
    "from utils.io import load_seq, save\n",
    "from data.preprocessor import Preprocessor"
   ]
  },
  {
   "cell_type": "markdown",
   "id": "196a5b0e-8708-4419-8864-1be4fd73e7cf",
   "metadata": {
    "jp-MarkdownHeadingCollapsed": true
   },
   "source": [
    "## Folder structure"
   ]
  },
  {
   "cell_type": "markdown",
   "id": "061abeab-8645-4c86-8150-b4702e21e228",
   "metadata": {},
   "source": [
    "```\n",
    "uavid_dataset/\n",
    "  ├── uavid_train/\n",
    "  |   ├── seq#\n",
    "  |   |   ├── Images/\n",
    "  │   |   └── Labels/\n",
    "  |   ├── seq#\n",
    "  |   |   ├── Images/\n",
    "  │   |   └── Labels/\n",
    "  |   |   .\n",
    "  │\n",
    "  ├── uavid_val/\n",
    "  |   ├── seq#\n",
    "  |   |   ├── Images/\n",
    "  │   |   └── Labels/\n",
    "  |   ├── seq#\n",
    "  |   |   ├── Images/\n",
    "  │   |   └── Labels/\n",
    "  |   |   .\n",
    "  │\n",
    "  ├── uavid_test/\n",
    "  |   ├── seq#\n",
    "  |   |   ├── Images/\n",
    "  |   ├── seq#\n",
    "  |   |   ├── Images/\n",
    "  |   |   .\n",
    "\n",
    "```"
   ]
  },
  {
   "cell_type": "markdown",
   "id": "4167e307-5f61-47ff-8ebd-af639c85059d",
   "metadata": {},
   "source": [
    "## Pathes"
   ]
  },
  {
   "cell_type": "code",
   "execution_count": 3,
   "id": "51eff51a-947e-4825-9e05-1d0ce1054e34",
   "metadata": {},
   "outputs": [],
   "source": [
    "uav_path = '../uavid_v1.5_official_release_image'\n",
    "\n",
    "train_path = uav_path + '/uavid_train'\n",
    "val_path = uav_path + '/uavid_val'\n",
    "test_path = uav_path + '/uavid_test'"
   ]
  },
  {
   "cell_type": "code",
   "execution_count": 4,
   "id": "c35eb4fc-1c90-4e12-b065-b77eda745fc0",
   "metadata": {},
   "outputs": [
    {
     "data": {
      "text/plain": [
       "['seq17', 'seq19', 'seq18', 'seq20', 'seq16', 'seq37', 'seq36']"
      ]
     },
     "execution_count": 4,
     "metadata": {},
     "output_type": "execute_result"
    }
   ],
   "source": [
    "os.listdir(val_path)"
   ]
  },
  {
   "cell_type": "markdown",
   "id": "1a50b445-cea2-40e6-ae94-81c52c3ef54f",
   "metadata": {},
   "source": [
    "## load"
   ]
  },
  {
   "cell_type": "code",
   "execution_count": 4,
   "id": "f5c7853f-c302-4126-8f1e-5b38262819c7",
   "metadata": {},
   "outputs": [
    {
     "name": "stdout",
     "output_type": "stream",
     "text": [
      "train:200 | val:70 | test:150\n",
      "res: (2160, 3840)\n"
     ]
    }
   ],
   "source": [
    "imgs, lbls = load_seq(train_path)\n",
    "imgs_val, lbls_val = load_seq(val_path)\n",
    "imgs_test, _ = load_seq(test_path)\n",
    "print(f'train:{len(imgs)} | val:{len(imgs_val)} | test:{len(imgs_test)}')\n",
    "print(f'res: {imgs[0].shape[:-1]}')"
   ]
  },
  {
   "cell_type": "markdown",
   "id": "ec830878-8342-45ee-82c5-2485b901d357",
   "metadata": {},
   "source": [
    "## Preprocess"
   ]
  },
  {
   "cell_type": "code",
   "execution_count": 7,
   "id": "75580d9d-11f1-4bf3-a495-85de888b8b07",
   "metadata": {},
   "outputs": [],
   "source": [
    "target = 512, 1024 # resize\n",
    "pre = Preprocessor(resize_to=target, one_h=False)\n",
    "\n",
    "enc = False"
   ]
  },
  {
   "cell_type": "code",
   "execution_count": 8,
   "id": "f8af1f0b-4180-49f8-86d5-d6ec7bdbf5c7",
   "metadata": {},
   "outputs": [
    {
     "data": {
      "text/plain": [
       "(150, 512, 1024, 3)"
      ]
     },
     "execution_count": 8,
     "metadata": {},
     "output_type": "execute_result"
    }
   ],
   "source": [
    "pre_imgs = pre.images_pre(imgs)\n",
    "pre_lbls = pre.labels_pre(lbls, encode=enc, fix=enc)\n",
    "\n",
    "pre_imgs_val = pre.images_pre(imgs_val)\n",
    "pre_lbls_val = pre.labels_pre(lbls_val, encode=enc, fix=enc)\n",
    "\n",
    "pre_imgs_test = pre.images_pre(imgs_test)\n",
    "\n",
    "print(f'imgs:{pre_imgs.shape}\\nval:{pre_imgs_val.shape}\\ntest:{pre_imgs_test.shape}')"
   ]
  },
  {
   "cell_type": "markdown",
   "id": "b187a377-ef7e-4884-ad60-54d750fc9e48",
   "metadata": {},
   "source": [
    "## Save"
   ]
  },
  {
   "cell_type": "code",
   "execution_count": 9,
   "id": "0ef8f1ca-6a0a-4125-a38d-631390d6533e",
   "metadata": {
    "scrolled": true
   },
   "outputs": [],
   "source": [
    "save_dir = '../uavid_512'\n",
    "\n",
    "save(f'{save_dir}/train_data', np.uint8(pre_imgs*255), pre_lbls)\n",
    "save(f'{save_dir}/val_data', np.uint8(pre_imgs_val*255), pre_lbls_val)\n",
    "save(f'{save_dir}/test_data', np.uint8(pre_imgs_test*255), None)"
   ]
  }
 ],
 "metadata": {
  "kernelspec": {
   "display_name": "Python 3 (ipykernel)",
   "language": "python",
   "name": "python3"
  },
  "language_info": {
   "codemirror_mode": {
    "name": "ipython",
    "version": 3
   },
   "file_extension": ".py",
   "mimetype": "text/x-python",
   "name": "python",
   "nbconvert_exporter": "python",
   "pygments_lexer": "ipython3",
   "version": "3.12.3"
  }
 },
 "nbformat": 4,
 "nbformat_minor": 5
}
